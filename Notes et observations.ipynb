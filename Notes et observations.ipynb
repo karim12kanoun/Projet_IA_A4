{
 "cells": [
  {
   "cell_type": "code",
   "execution_count": null,
   "id": "93f0d067",
   "metadata": {},
   "outputs": [],
   "source": []
  },
  {
   "cell_type": "markdown",
   "id": "bd52620f",
   "metadata": {},
   "source": [
    "# PROJET IA (NOTES & REMARQUES)"
   ]
  },
  {
   "cell_type": "markdown",
   "id": "59b50c42",
   "metadata": {},
   "source": [
    "### Contexte :\n",
    "Le direction fait appel à nous, spécialistes de l'analyse de données (KEKW), pour déterminer les facteurs ayant le plus d'influence sur ce taux de turn-over et lui proposer des modèles afin d'avoir des pistes d'amélioration pour donner à leurs employés l'envie de rester."
   ]
  },
  {
   "cell_type": "markdown",
   "id": "075feef9",
   "metadata": {},
   "source": [
    "## DATA TO KEEP :\n",
    "  ##### Source : general_data.csv\n",
    "  #### Données general:\n",
    "  \n",
    "   - AGE\n",
    "   - Y = Attrition L'objet de notre étude, est-ce que l'employé a quitté l'entreprise durant \n",
    "    l'année 2016\n",
    "   - DistanceFromHome \n",
    "   - EmployeeCount : booléen à 1 si l'employé était compté dans les effectifs en 2015.\n",
    "   - Gender : Sexe de l'employé\n",
    "   - JobLevel : Niveau hiérarchique dans l'entreprise de 1 à 5\n",
    "   - JobRole : Métier dans l'entreprise..\n",
    "   - MaritalStatus : Statut marital du salarié (Célibataire, Marié ou Divorcé)\n",
    "   - MonthlyIncome : Salaire brut en roupies par mois\n",
    "   - NumCompaniesWorked : Nombre d'entreprises pour lequel le salarié a travaillé avant de \n",
    "    rejoindre HumanForYou\n",
    "   - PercentSalaryHike : % d'augmentation du salaire en 2015.\n",
    "   - StandardHours : Nombre d'heures par jour dans le contrat du salarié\n",
    "   - StockOptionLevel : Niveau d'investissement en actions de l'entreprise par le salarié\n",
    "   - TotalWorkingYears : Nombre d'années d'expérience en entreprise du salarié pour le même type \n",
    "    de poste\n",
    "   - TrainingTimesLastYear : Nombre de jours de formation en 2015\n",
    "   - YearsAtCompany : Ancienneté dans l'entreprise\n",
    "   - YearsSinceLastPromotion : Nombre d'années depuis la dernière augmentation individuelle\n",
    "   - YearsWithCurrentManager : Nombre d'années de collaboration sous la responsabilité du \n",
    "    manager actuel de l'employé.\n",
    "    \n",
    "    \n",
    "    \n",
    "    \n",
    "    \n",
    "    \n",
    "    \n",
    "    \n",
    "   \n",
    "   #### Données du manager :\n",
    "   \n",
    "   - JobInvolvement :Une évaluation de son implication dans son travail notée 1 ('Faible'),2 (\"Moyenne\"), 3 (\"Importante\") ou 4 (\"Très importante\") \n",
    "\n",
    "   - Une évaluation de son niveau de performance annuel pour l'entreprise notée 1 (\"Faible\"), \n",
    "    2 (\"Bon\"), 3 (\"Excellent\")  ou 4 (\"Au delà des attentes\") : PerformanceRating\n",
    "   ###### Source: manager_survey_data.csv\n",
    "   \n",
    "   \n",
    "   #### Données de la survey : \n",
    "   \n",
    "   - EnvironmentSatisfaction : l'environnement de travail, noté 1 (\"Faible\"), 2 (\"Moyen\"), \n",
    "    3 (\"Élevé\") ou 4 (\"Très élevé\") \n",
    "        \n",
    "   - JobSatisfaction : son travail, noté de 1 à 4 comme précédemment \n",
    "\n",
    "   - WorkLifeBalanceson équilibre entre vie professionnelle et vie privée, noté 1 (\"Mauvais\"), \n",
    "    2 (\"Satisfaisant\"), 3 (\"Très satisfaisant\") ou 4 (\"Excellent\") \n",
    "   ###### Source : employee_survey_data.csv\n",
    "   \n",
    "   \n",
    "   #### Heure d'entrée et de sortie \n",
    "   \n",
    "   Activité enregistrer par les badgeuses\n",
    "   ###### Source : in_out_time.zip\n",
    "    "
   ]
  },
  {
   "cell_type": "markdown",
   "id": "bacfb629",
   "metadata": {},
   "source": [
    "### OMITTED DATA :\n",
    "   - BusinessTravel : A quel fréquence l'employé a été amené à se déplacer dans le cadre de \n",
    "     son travail en 2015 ? (Non-Travel = jamais, Travel_Rarely= rarement, Travel_Frequently \n",
    "     = fréquemment)\n",
    "   - Education \n",
    "   - EducationField\n",
    "   - EmployeeId\n",
    "   - Over18 : Est-ce que le salarié a plus de 18 ans ou non ?"
   ]
  },
  {
   "cell_type": "markdown",
   "id": "95da32ee",
   "metadata": {},
   "source": [
    "### TODO LIST :\n",
    "   1. Justifier les choix de données dans le document \"éthique\" (pending, continuous work)\n",
    "   2. Normaliser et nettoyer les données (pending)\n",
    "   3. Modeliser les données a l'aide des statistiques descriptive (pending)\n",
    "   4. Combiner nos datasets en un seul dataFrame pertinant (pending)\n",
    "   5. Data splitting (80 training / 20 test) (pending)\n",
    "   6. Expliquer pourquoi on est dans un cas de classification (pending)\n",
    "   7. Defenir les models de ML (ANN,DECISION TREE, SVM, LOGISTIC REGRESSION, kNN, \n",
    "    Naive bias) (pending)\n",
    "   8. Entrainer les models choisis(sorties) (pending)\n",
    "   9. Evaluer nos models (Accuracy , ROC, F1 score, cross-validation..etc) (pending)\n",
    "   10. Minimiser fonction de cout et optimiser les models\n",
    "   11. FIX LES BUGS\n",
    "   \n",
    "\n",
    "\n",
    "\n",
    "\n",
    "\n",
    "\n",
    "\n",
    "\n",
    "\n",
    "\n"
   ]
  },
  {
   "cell_type": "code",
   "execution_count": null,
   "id": "6daf7d35",
   "metadata": {},
   "outputs": [],
   "source": []
  },
  {
   "cell_type": "code",
   "execution_count": null,
   "id": "f0ec8d4f",
   "metadata": {},
   "outputs": [],
   "source": []
  }
 ],
 "metadata": {
  "kernelspec": {
   "display_name": "blocIA",
   "language": "python",
   "name": "blocia"
  },
  "language_info": {
   "codemirror_mode": {
    "name": "ipython",
    "version": 3
   },
   "file_extension": ".py",
   "mimetype": "text/x-python",
   "name": "python",
   "nbconvert_exporter": "python",
   "pygments_lexer": "ipython3",
   "version": "3.9.7"
  }
 },
 "nbformat": 4,
 "nbformat_minor": 5
}
